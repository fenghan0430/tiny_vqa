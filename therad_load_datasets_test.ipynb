{
 "cells": [
  {
   "cell_type": "code",
   "execution_count": 1,
   "metadata": {},
   "outputs": [
    {
     "name": "stderr",
     "output_type": "stream",
     "text": [
      "2024-04-15 12:36:42.206912: I tensorflow/core/util/port.cc:113] oneDNN custom operations are on. You may see slightly different numerical results due to floating-point round-off errors from different computation orders. To turn them off, set the environment variable `TF_ENABLE_ONEDNN_OPTS=0`.\n",
      "2024-04-15 12:36:42.247572: E external/local_xla/xla/stream_executor/cuda/cuda_dnn.cc:9261] Unable to register cuDNN factory: Attempting to register factory for plugin cuDNN when one has already been registered\n",
      "2024-04-15 12:36:42.247600: E external/local_xla/xla/stream_executor/cuda/cuda_fft.cc:607] Unable to register cuFFT factory: Attempting to register factory for plugin cuFFT when one has already been registered\n",
      "2024-04-15 12:36:42.248880: E external/local_xla/xla/stream_executor/cuda/cuda_blas.cc:1515] Unable to register cuBLAS factory: Attempting to register factory for plugin cuBLAS when one has already been registered\n",
      "2024-04-15 12:36:42.256020: I tensorflow/core/platform/cpu_feature_guard.cc:182] This TensorFlow binary is optimized to use available CPU instructions in performance-critical operations.\n",
      "To enable the following instructions: AVX2 AVX512F AVX512_VNNI FMA, in other operations, rebuild TensorFlow with the appropriate compiler flags.\n"
     ]
    }
   ],
   "source": [
    "import os\n",
    "import cv2\n",
    "import json\n",
    "import numpy as np\n",
    "import threading\n",
    "import multiprocessing\n",
    "\n",
    "import tensorflow as tf\n",
    "from keras.api._v2.keras.preprocessing.image import ImageDataGenerator\n",
    "from keras.api._v2.keras.preprocessing.text import Tokenizer\n",
    "from keras.api._v2.keras.preprocessing.sequence import pad_sequences"
   ]
  },
  {
   "cell_type": "code",
   "execution_count": 2,
   "metadata": {},
   "outputs": [],
   "source": [
    "class load_floodnet():\n",
    "    def __init__(self):\n",
    "        self.resized_images_dict = multiprocessing.Manager().dict()\n",
    "        self.lock = threading.Lock()\n",
    "    \n",
    "    def get_all_filenames(self, directory):\n",
    "        \"\"\"列出文件名\"\"\"\n",
    "        filenames = []\n",
    "        for root, dirs, files in os.walk(directory):\n",
    "            for file in files:\n",
    "                file_path = os.path.join(root, file)\n",
    "                filenames.append(file_path)\n",
    "        return filenames\n",
    "\n",
    "    def resize_and_store_images(self, image_paths):\n",
    "        for path in image_paths:\n",
    "            image = cv2.imread(path)\n",
    "            resized_image = cv2.resize(image, (244, 244))\n",
    "            _, file_name = os.path.split(path)\n",
    "            with self.lock:\n",
    "                self.resized_images_dict[file_name] = resized_image\n",
    "    \n",
    "    def process_images_parallel(self):\n",
    "        image_paths = self.get_all_filenames(\"/work/floodnet_dataset/Images/Train_Image\")\n",
    "        num_cores = multiprocessing.cpu_count()\n",
    "        # num_cores = 8\n",
    "        chunk_size = len(image_paths) // num_cores\n",
    "        chunks = [image_paths[i:i+chunk_size] for i in range(0, len(image_paths), chunk_size)]\n",
    "\n",
    "        processes = []\n",
    "        for i, chunk in enumerate(chunks):\n",
    "            process = multiprocessing.Process(target=self.resize_and_store_images, args=(chunk,), name=f\"Process-{i+1}\")\n",
    "            processes.append(process)\n",
    "            process.start()\n",
    "\n",
    "        for process in processes:\n",
    "            process.join()\n",
    "        return self.resized_images_dict\n",
    "    \n",
    "    def load_data(self):\n",
    "        '''加载数据'''\n",
    "        self.resized_images_dict = self.process_images_parallel()\n",
    "        \n",
    "        # 从json文件中读取问题和标签, 并将标签和数据对应 \n",
    "        with open('/work/floodnet_dataset/Questions/Training Question.json', 'r') as f:\n",
    "            data = json.load(f)\n",
    "\n",
    "        image_id_question_list=[]\n",
    "\n",
    "        for key, value in data.items():\n",
    "            image_id = value[\"Image_ID\"]\n",
    "            if image_id in self.resized_images_dict:\n",
    "                image = self.resized_images_dict[image_id]\n",
    "            else:\n",
    "                image = None\n",
    "            image_id_question_list.append([image_id, value[\"Question\"], value[\"Ground_Truth\"], image])\n",
    "        \n",
    "        # 返回图片，问题和答案三个列表    \n",
    "        return [item[3] for item in image_id_question_list], [item[1] for item in image_id_question_list], [item[2] for item in image_id_question_list]"
   ]
  },
  {
   "cell_type": "code",
   "execution_count": 3,
   "metadata": {},
   "outputs": [],
   "source": [
    "def preprocess_data(images, questions, answers, num_answers):\n",
    "    '''数据预处理'''\n",
    "    # 图像预处理\n",
    "    # image_generator = ImageDataGenerator(rescale=1./255)\n",
    "    # images = np.stack(images, axis=0) # (图片数量,h,w,通道)\n",
    "    # image_data = image_generator.flow(images, batch_size=len(images), shuffle=False)\n",
    "    \n",
    "    images = np.stack(images, axis=0) # (图片数量,h,w,通道)\n",
    "    min_value = np.min(images)\n",
    "    max_value = np.max(images)\n",
    "    image_data = (images - min_value) / (max_value - min_value)\n",
    "    \n",
    "    # 问题预处理\n",
    "    tokenizer = Tokenizer()\n",
    "    tokenizer.fit_on_texts(questions)\n",
    "    sequences = tokenizer.texts_to_sequences(questions)\n",
    "    question_data = pad_sequences(sequences, maxlen=len(questions))\n",
    "    \n",
    "    # 答案预处理\n",
    "    # 将布尔值转换为字符串\n",
    "    answers_str = []\n",
    "    for item in answers:\n",
    "        answers_str.append(str(item))\n",
    "    # 构建标签到整数的映射字典\n",
    "    label_set = set(answers_str)\n",
    "    label_map = {}\n",
    "    for i, label in enumerate(label_set):\n",
    "        label_map[label] = i\n",
    "    # 将字符串标签转换为整数编码\n",
    "    answers_encoded = []\n",
    "    for label in answers_str:\n",
    "        answers_encoded.append(label_map[label])\n",
    "\n",
    "    answer_data = tf.keras.utils.to_categorical(answers_encoded, num_classes=num_answers)\n",
    "    \n",
    "    return tf.data.Dataset.from_tensor_slices((image_data, question_data, answer_data))"
   ]
  },
  {
   "cell_type": "code",
   "execution_count": 4,
   "metadata": {},
   "outputs": [
    {
     "name": "stderr",
     "output_type": "stream",
     "text": [
      "2024-04-15 12:36:59.000116: I tensorflow/core/common_runtime/gpu/gpu_device.cc:1929] Created device /job:localhost/replica:0/task:0/device:GPU:0 with 79091 MB memory:  -> device: 0, name: NVIDIA A100 80GB PCIe, pci bus id: 0000:b1:00.0, compute capability: 8.0\n"
     ]
    }
   ],
   "source": [
    "temp = load_floodnet()\n",
    "images, questions, answers = temp.load_data()\n",
    "\n",
    "dataset = preprocess_data(images, questions, answers, 100)"
   ]
  },
  {
   "cell_type": "code",
   "execution_count": null,
   "metadata": {},
   "outputs": [],
   "source": []
  }
 ],
 "metadata": {
  "kernelspec": {
   "display_name": "Python 3",
   "language": "python",
   "name": "python3"
  },
  "language_info": {
   "codemirror_mode": {
    "name": "ipython",
    "version": 3
   },
   "file_extension": ".py",
   "mimetype": "text/x-python",
   "name": "python",
   "nbconvert_exporter": "python",
   "pygments_lexer": "ipython3",
   "version": "3.11.0"
  }
 },
 "nbformat": 4,
 "nbformat_minor": 2
}
